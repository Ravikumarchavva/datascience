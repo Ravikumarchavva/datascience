{
 "cells": [
  {
   "cell_type": "code",
   "execution_count": 1,
   "metadata": {},
   "outputs": [],
   "source": [
    "import polars as pl"
   ]
  },
  {
   "cell_type": "code",
   "execution_count": 2,
   "metadata": {},
   "outputs": [
    {
     "data": {
      "text/html": [
       "<div><style>\n",
       ".dataframe > thead > tr > th,\n",
       ".dataframe > tbody > tr > td {\n",
       "  text-align: right;\n",
       "}\n",
       "</style>\n",
       "<small>shape: (756, 18)</small><table border=\"1\" class=\"dataframe\"><thead><tr><th>match_id</th><th>season</th><th>city</th><th>date</th><th>team1</th><th>team2</th><th>toss_winner</th><th>toss_decision</th><th>result</th><th>dl_applied</th><th>winner</th><th>win_by_runs</th><th>win_by_wickets</th><th>player_of_match</th><th>venue</th><th>umpire1</th><th>umpire2</th><th>umpire3</th></tr><tr><td>i64</td><td>i64</td><td>str</td><td>str</td><td>str</td><td>str</td><td>str</td><td>str</td><td>str</td><td>i64</td><td>str</td><td>i64</td><td>i64</td><td>str</td><td>str</td><td>str</td><td>str</td><td>str</td></tr></thead><tbody><tr><td>1</td><td>2017</td><td>&quot;Hyderabad&quot;</td><td>&quot;2017-04-05&quot;</td><td>&quot;Sunrisers Hyde…</td><td>&quot;Royal Challeng…</td><td>&quot;Royal Challeng…</td><td>&quot;field&quot;</td><td>&quot;normal&quot;</td><td>0</td><td>&quot;Sunrisers Hyde…</td><td>35</td><td>0</td><td>&quot;Yuvraj Singh&quot;</td><td>&quot;Rajiv Gandhi I…</td><td>&quot;AY Dandekar&quot;</td><td>&quot;NJ Llong&quot;</td><td>null</td></tr><tr><td>2</td><td>2017</td><td>&quot;Pune&quot;</td><td>&quot;2017-04-06&quot;</td><td>&quot;Mumbai Indians…</td><td>&quot;Rising Pune Su…</td><td>&quot;Rising Pune Su…</td><td>&quot;field&quot;</td><td>&quot;normal&quot;</td><td>0</td><td>&quot;Rising Pune Su…</td><td>0</td><td>7</td><td>&quot;SPD Smith&quot;</td><td>&quot;Maharashtra Cr…</td><td>&quot;A Nand Kishore…</td><td>&quot;S Ravi&quot;</td><td>null</td></tr><tr><td>3</td><td>2017</td><td>&quot;Rajkot&quot;</td><td>&quot;2017-04-07&quot;</td><td>&quot;Gujarat Lions&quot;</td><td>&quot;Kolkata Knight…</td><td>&quot;Kolkata Knight…</td><td>&quot;field&quot;</td><td>&quot;normal&quot;</td><td>0</td><td>&quot;Kolkata Knight…</td><td>0</td><td>10</td><td>&quot;CA Lynn&quot;</td><td>&quot;Saurashtra Cri…</td><td>&quot;Nitin Menon&quot;</td><td>&quot;CK Nandan&quot;</td><td>null</td></tr><tr><td>4</td><td>2017</td><td>&quot;Indore&quot;</td><td>&quot;2017-04-08&quot;</td><td>&quot;Rising Pune Su…</td><td>&quot;Kings XI Punja…</td><td>&quot;Kings XI Punja…</td><td>&quot;field&quot;</td><td>&quot;normal&quot;</td><td>0</td><td>&quot;Kings XI Punja…</td><td>0</td><td>6</td><td>&quot;GJ Maxwell&quot;</td><td>&quot;Holkar Cricket…</td><td>&quot;AK Chaudhary&quot;</td><td>&quot;C Shamshuddin&quot;</td><td>null</td></tr><tr><td>5</td><td>2017</td><td>&quot;Bangalore&quot;</td><td>&quot;2017-04-08&quot;</td><td>&quot;Royal Challeng…</td><td>&quot;Delhi Daredevi…</td><td>&quot;Royal Challeng…</td><td>&quot;bat&quot;</td><td>&quot;normal&quot;</td><td>0</td><td>&quot;Royal Challeng…</td><td>15</td><td>0</td><td>&quot;KM Jadhav&quot;</td><td>&quot;M Chinnaswamy …</td><td>null</td><td>null</td><td>null</td></tr><tr><td>6</td><td>2017</td><td>&quot;Hyderabad&quot;</td><td>&quot;2017-04-09&quot;</td><td>&quot;Gujarat Lions&quot;</td><td>&quot;Sunrisers Hyde…</td><td>&quot;Sunrisers Hyde…</td><td>&quot;field&quot;</td><td>&quot;normal&quot;</td><td>0</td><td>&quot;Sunrisers Hyde…</td><td>0</td><td>9</td><td>&quot;Rashid Khan&quot;</td><td>&quot;Rajiv Gandhi I…</td><td>&quot;A Deshmukh&quot;</td><td>&quot;NJ Llong&quot;</td><td>null</td></tr><tr><td>7</td><td>2017</td><td>&quot;Mumbai&quot;</td><td>&quot;2017-04-09&quot;</td><td>&quot;Kolkata Knight…</td><td>&quot;Mumbai Indians…</td><td>&quot;Mumbai Indians…</td><td>&quot;field&quot;</td><td>&quot;normal&quot;</td><td>0</td><td>&quot;Mumbai Indians…</td><td>0</td><td>4</td><td>&quot;N Rana&quot;</td><td>&quot;Wankhede Stadi…</td><td>&quot;Nitin Menon&quot;</td><td>&quot;CK Nandan&quot;</td><td>null</td></tr><tr><td>8</td><td>2017</td><td>&quot;Indore&quot;</td><td>&quot;2017-04-10&quot;</td><td>&quot;Royal Challeng…</td><td>&quot;Kings XI Punja…</td><td>&quot;Royal Challeng…</td><td>&quot;bat&quot;</td><td>&quot;normal&quot;</td><td>0</td><td>&quot;Kings XI Punja…</td><td>0</td><td>8</td><td>&quot;AR Patel&quot;</td><td>&quot;Holkar Cricket…</td><td>&quot;AK Chaudhary&quot;</td><td>&quot;C Shamshuddin&quot;</td><td>null</td></tr><tr><td>9</td><td>2017</td><td>&quot;Pune&quot;</td><td>&quot;2017-04-11&quot;</td><td>&quot;Delhi Daredevi…</td><td>&quot;Rising Pune Su…</td><td>&quot;Rising Pune Su…</td><td>&quot;field&quot;</td><td>&quot;normal&quot;</td><td>0</td><td>&quot;Delhi Daredevi…</td><td>97</td><td>0</td><td>&quot;SV Samson&quot;</td><td>&quot;Maharashtra Cr…</td><td>&quot;AY Dandekar&quot;</td><td>&quot;S Ravi&quot;</td><td>null</td></tr><tr><td>10</td><td>2017</td><td>&quot;Mumbai&quot;</td><td>&quot;2017-04-12&quot;</td><td>&quot;Sunrisers Hyde…</td><td>&quot;Mumbai Indians…</td><td>&quot;Mumbai Indians…</td><td>&quot;field&quot;</td><td>&quot;normal&quot;</td><td>0</td><td>&quot;Mumbai Indians…</td><td>0</td><td>4</td><td>&quot;JJ Bumrah&quot;</td><td>&quot;Wankhede Stadi…</td><td>&quot;Nitin Menon&quot;</td><td>&quot;CK Nandan&quot;</td><td>null</td></tr><tr><td>11</td><td>2017</td><td>&quot;Kolkata&quot;</td><td>&quot;2017-04-13&quot;</td><td>&quot;Kings XI Punja…</td><td>&quot;Kolkata Knight…</td><td>&quot;Kolkata Knight…</td><td>&quot;field&quot;</td><td>&quot;normal&quot;</td><td>0</td><td>&quot;Kolkata Knight…</td><td>0</td><td>8</td><td>&quot;SP Narine&quot;</td><td>&quot;Eden Gardens&quot;</td><td>&quot;A Deshmukh&quot;</td><td>&quot;NJ Llong&quot;</td><td>null</td></tr><tr><td>12</td><td>2017</td><td>&quot;Bangalore&quot;</td><td>&quot;2017-04-14&quot;</td><td>&quot;Royal Challeng…</td><td>&quot;Mumbai Indians…</td><td>&quot;Mumbai Indians…</td><td>&quot;field&quot;</td><td>&quot;normal&quot;</td><td>0</td><td>&quot;Mumbai Indians…</td><td>0</td><td>4</td><td>&quot;KA Pollard&quot;</td><td>&quot;M Chinnaswamy …</td><td>&quot;KN Ananthapadm…</td><td>&quot;AK Chaudhary&quot;</td><td>null</td></tr><tr><td>&hellip;</td><td>&hellip;</td><td>&hellip;</td><td>&hellip;</td><td>&hellip;</td><td>&hellip;</td><td>&hellip;</td><td>&hellip;</td><td>&hellip;</td><td>&hellip;</td><td>&hellip;</td><td>&hellip;</td><td>&hellip;</td><td>&hellip;</td><td>&hellip;</td><td>&hellip;</td><td>&hellip;</td><td>&hellip;</td></tr><tr><td>11340</td><td>2019</td><td>&quot;Bengaluru&quot;</td><td>&quot;30/04/19&quot;</td><td>&quot;Royal Challeng…</td><td>&quot;Rajasthan Roya…</td><td>&quot;Rajasthan Roya…</td><td>&quot;field&quot;</td><td>&quot;no result&quot;</td><td>0</td><td>null</td><td>0</td><td>0</td><td>null</td><td>&quot;M. Chinnaswamy…</td><td>&quot;Nigel Llong&quot;</td><td>&quot;Ulhas Gandhe&quot;</td><td>&quot;Anil Chaudhary…</td></tr><tr><td>11341</td><td>2019</td><td>&quot;Chennai&quot;</td><td>&quot;01/05/19&quot;</td><td>&quot;Chennai Super …</td><td>&quot;Delhi Capitals…</td><td>&quot;Delhi Capitals…</td><td>&quot;field&quot;</td><td>&quot;normal&quot;</td><td>0</td><td>&quot;Chennai Super …</td><td>80</td><td>0</td><td>&quot;MS Dhoni&quot;</td><td>&quot;M. A. Chidamba…</td><td>&quot;Anil Dandekar&quot;</td><td>&quot;Nitin Menon&quot;</td><td>&quot;Ian Gould&quot;</td></tr><tr><td>11342</td><td>2019</td><td>&quot;Mumbai&quot;</td><td>&quot;02/05/19&quot;</td><td>&quot;Mumbai Indians…</td><td>&quot;Sunrisers Hyde…</td><td>&quot;Mumbai Indians…</td><td>&quot;bat&quot;</td><td>&quot;tie&quot;</td><td>0</td><td>&quot;Mumbai Indians…</td><td>0</td><td>0</td><td>&quot;JJ Bumrah&quot;</td><td>&quot;Wankhede Stadi…</td><td>&quot;S Ravi&quot;</td><td>&quot;O Nandan&quot;</td><td>&quot;Nanda Kishore&quot;</td></tr><tr><td>11343</td><td>2019</td><td>&quot;Mohali&quot;</td><td>&quot;03/05/19&quot;</td><td>&quot;Kings XI Punja…</td><td>&quot;Kolkata Knight…</td><td>&quot;Kolkata Knight…</td><td>&quot;field&quot;</td><td>&quot;normal&quot;</td><td>0</td><td>&quot;Kolkata Knight…</td><td>0</td><td>7</td><td>&quot;S Gill&quot;</td><td>&quot;IS Bindra Stad…</td><td>&quot;Bruce Oxenford…</td><td>&quot;C Shamshuddin&quot;</td><td>&quot;KN Ananthapadm…</td></tr><tr><td>11344</td><td>2019</td><td>&quot;Delhi&quot;</td><td>&quot;04/05/19&quot;</td><td>&quot;Rajasthan Roya…</td><td>&quot;Delhi Capitals…</td><td>&quot;Rajasthan Roya…</td><td>&quot;bat&quot;</td><td>&quot;normal&quot;</td><td>0</td><td>&quot;Delhi Capitals…</td><td>0</td><td>5</td><td>&quot;A Mishra&quot;</td><td>&quot;Feroz Shah Kot…</td><td>&quot;Ian Gould&quot;</td><td>&quot;Anil Dandekar&quot;</td><td>&quot;Nitin Menon&quot;</td></tr><tr><td>11345</td><td>2019</td><td>&quot;Bengaluru&quot;</td><td>&quot;04/05/19&quot;</td><td>&quot;Sunrisers Hyde…</td><td>&quot;Royal Challeng…</td><td>&quot;Royal Challeng…</td><td>&quot;field&quot;</td><td>&quot;normal&quot;</td><td>0</td><td>&quot;Royal Challeng…</td><td>0</td><td>4</td><td>&quot;S Hetmyer&quot;</td><td>&quot;M. Chinnaswamy…</td><td>&quot;Nigel Llong&quot;</td><td>&quot;Anil Chaudhary…</td><td>&quot;Ulhas Gandhe&quot;</td></tr><tr><td>11346</td><td>2019</td><td>&quot;Mohali&quot;</td><td>&quot;05/05/19&quot;</td><td>&quot;Chennai Super …</td><td>&quot;Kings XI Punja…</td><td>&quot;Kings XI Punja…</td><td>&quot;field&quot;</td><td>&quot;normal&quot;</td><td>0</td><td>&quot;Kings XI Punja…</td><td>0</td><td>6</td><td>&quot;KL Rahul&quot;</td><td>&quot;IS Bindra Stad…</td><td>&quot;KN Ananthapadm…</td><td>&quot;C Shamshuddin&quot;</td><td>&quot;Bruce Oxenford…</td></tr><tr><td>11347</td><td>2019</td><td>&quot;Mumbai&quot;</td><td>&quot;05/05/19&quot;</td><td>&quot;Kolkata Knight…</td><td>&quot;Mumbai Indians…</td><td>&quot;Mumbai Indians…</td><td>&quot;field&quot;</td><td>&quot;normal&quot;</td><td>0</td><td>&quot;Mumbai Indians…</td><td>0</td><td>9</td><td>&quot;HH Pandya&quot;</td><td>&quot;Wankhede Stadi…</td><td>&quot;Nanda Kishore&quot;</td><td>&quot;O Nandan&quot;</td><td>&quot;S Ravi&quot;</td></tr><tr><td>11412</td><td>2019</td><td>&quot;Chennai&quot;</td><td>&quot;07/05/19&quot;</td><td>&quot;Chennai Super …</td><td>&quot;Mumbai Indians…</td><td>&quot;Chennai Super …</td><td>&quot;bat&quot;</td><td>&quot;normal&quot;</td><td>0</td><td>&quot;Mumbai Indians…</td><td>0</td><td>6</td><td>&quot;AS Yadav&quot;</td><td>&quot;M. A. Chidamba…</td><td>&quot;Nigel Llong&quot;</td><td>&quot;Nitin Menon&quot;</td><td>&quot;Ian Gould&quot;</td></tr><tr><td>11413</td><td>2019</td><td>&quot;Visakhapatnam&quot;</td><td>&quot;08/05/19&quot;</td><td>&quot;Sunrisers Hyde…</td><td>&quot;Delhi Capitals…</td><td>&quot;Delhi Capitals…</td><td>&quot;field&quot;</td><td>&quot;normal&quot;</td><td>0</td><td>&quot;Delhi Capitals…</td><td>0</td><td>2</td><td>&quot;RR Pant&quot;</td><td>&quot;ACA-VDCA Stadi…</td><td>null</td><td>null</td><td>null</td></tr><tr><td>11414</td><td>2019</td><td>&quot;Visakhapatnam&quot;</td><td>&quot;10/05/19&quot;</td><td>&quot;Delhi Capitals…</td><td>&quot;Chennai Super …</td><td>&quot;Chennai Super …</td><td>&quot;field&quot;</td><td>&quot;normal&quot;</td><td>0</td><td>&quot;Chennai Super …</td><td>0</td><td>6</td><td>&quot;F du Plessis&quot;</td><td>&quot;ACA-VDCA Stadi…</td><td>&quot;Sundaram Ravi&quot;</td><td>&quot;Bruce Oxenford…</td><td>&quot;Chettithody Sh…</td></tr><tr><td>11415</td><td>2019</td><td>&quot;Hyderabad&quot;</td><td>&quot;12/05/19&quot;</td><td>&quot;Mumbai Indians…</td><td>&quot;Chennai Super …</td><td>&quot;Mumbai Indians…</td><td>&quot;bat&quot;</td><td>&quot;normal&quot;</td><td>0</td><td>&quot;Mumbai Indians…</td><td>1</td><td>0</td><td>&quot;JJ Bumrah&quot;</td><td>&quot;Rajiv Gandhi I…</td><td>&quot;Nitin Menon&quot;</td><td>&quot;Ian Gould&quot;</td><td>&quot;Nigel Llong&quot;</td></tr></tbody></table></div>"
      ],
      "text/plain": [
       "shape: (756, 18)\n",
       "┌──────────┬────────┬────────────┬────────────┬───┬────────────┬───────────┬───────────┬───────────┐\n",
       "│ match_id ┆ season ┆ city       ┆ date       ┆ … ┆ venue      ┆ umpire1   ┆ umpire2   ┆ umpire3   │\n",
       "│ ---      ┆ ---    ┆ ---        ┆ ---        ┆   ┆ ---        ┆ ---       ┆ ---       ┆ ---       │\n",
       "│ i64      ┆ i64    ┆ str        ┆ str        ┆   ┆ str        ┆ str       ┆ str       ┆ str       │\n",
       "╞══════════╪════════╪════════════╪════════════╪═══╪════════════╪═══════════╪═══════════╪═══════════╡\n",
       "│ 1        ┆ 2017   ┆ Hyderabad  ┆ 2017-04-05 ┆ … ┆ Rajiv      ┆ AY        ┆ NJ Llong  ┆ null      │\n",
       "│          ┆        ┆            ┆            ┆   ┆ Gandhi Int ┆ Dandekar  ┆           ┆           │\n",
       "│          ┆        ┆            ┆            ┆   ┆ ernational ┆           ┆           ┆           │\n",
       "│          ┆        ┆            ┆            ┆   ┆ Stadi…     ┆           ┆           ┆           │\n",
       "│ 2        ┆ 2017   ┆ Pune       ┆ 2017-04-06 ┆ … ┆ Maharashtr ┆ A Nand    ┆ S Ravi    ┆ null      │\n",
       "│          ┆        ┆            ┆            ┆   ┆ a Cricket  ┆ Kishore   ┆           ┆           │\n",
       "│          ┆        ┆            ┆            ┆   ┆ Associatio ┆           ┆           ┆           │\n",
       "│          ┆        ┆            ┆            ┆   ┆ n …        ┆           ┆           ┆           │\n",
       "│ 3        ┆ 2017   ┆ Rajkot     ┆ 2017-04-07 ┆ … ┆ Saurashtra ┆ Nitin     ┆ CK Nandan ┆ null      │\n",
       "│          ┆        ┆            ┆            ┆   ┆ Cricket    ┆ Menon     ┆           ┆           │\n",
       "│          ┆        ┆            ┆            ┆   ┆ Associatio ┆           ┆           ┆           │\n",
       "│          ┆        ┆            ┆            ┆   ┆ n S…       ┆           ┆           ┆           │\n",
       "│ 4        ┆ 2017   ┆ Indore     ┆ 2017-04-08 ┆ … ┆ Holkar     ┆ AK        ┆ C Shamshu ┆ null      │\n",
       "│          ┆        ┆            ┆            ┆   ┆ Cricket    ┆ Chaudhary ┆ ddin      ┆           │\n",
       "│          ┆        ┆            ┆            ┆   ┆ Stadium    ┆           ┆           ┆           │\n",
       "│ …        ┆ …      ┆ …          ┆ …          ┆ … ┆ …          ┆ …         ┆ …         ┆ …         │\n",
       "│ 11412    ┆ 2019   ┆ Chennai    ┆ 07/05/19   ┆ … ┆ M. A. Chid ┆ Nigel     ┆ Nitin     ┆ Ian Gould │\n",
       "│          ┆        ┆            ┆            ┆   ┆ ambaram    ┆ Llong     ┆ Menon     ┆           │\n",
       "│          ┆        ┆            ┆            ┆   ┆ Stadium    ┆           ┆           ┆           │\n",
       "│ 11413    ┆ 2019   ┆ Visakhapat ┆ 08/05/19   ┆ … ┆ ACA-VDCA   ┆ null      ┆ null      ┆ null      │\n",
       "│          ┆        ┆ nam        ┆            ┆   ┆ Stadium    ┆           ┆           ┆           │\n",
       "│ 11414    ┆ 2019   ┆ Visakhapat ┆ 10/05/19   ┆ … ┆ ACA-VDCA   ┆ Sundaram  ┆ Bruce     ┆ Chettitho │\n",
       "│          ┆        ┆ nam        ┆            ┆   ┆ Stadium    ┆ Ravi      ┆ Oxenford  ┆ dy Shamsh │\n",
       "│          ┆        ┆            ┆            ┆   ┆            ┆           ┆           ┆ uddin     │\n",
       "│ 11415    ┆ 2019   ┆ Hyderabad  ┆ 12/05/19   ┆ … ┆ Rajiv      ┆ Nitin     ┆ Ian Gould ┆ Nigel     │\n",
       "│          ┆        ┆            ┆            ┆   ┆ Gandhi     ┆ Menon     ┆           ┆ Llong     │\n",
       "│          ┆        ┆            ┆            ┆   ┆ Intl.      ┆           ┆           ┆           │\n",
       "│          ┆        ┆            ┆            ┆   ┆ Cricket    ┆           ┆           ┆           │\n",
       "│          ┆        ┆            ┆            ┆   ┆ Stadi…     ┆           ┆           ┆           │\n",
       "└──────────┴────────┴────────────┴────────────┴───┴────────────┴───────────┴───────────┴───────────┘"
      ]
     },
     "execution_count": 2,
     "metadata": {},
     "output_type": "execute_result"
    }
   ],
   "source": [
    "c"
   ]
  },
  {
   "cell_type": "code",
   "execution_count": 3,
   "metadata": {},
   "outputs": [
    {
     "data": {
      "text/html": [
       "<div><style>\n",
       ".dataframe > thead > tr > th,\n",
       ".dataframe > tbody > tr > td {\n",
       "  text-align: right;\n",
       "}\n",
       "</style>\n",
       "<small>shape: (16,)</small><table border=\"1\" class=\"dataframe\"><thead><tr><th>winner</th></tr><tr><td>str</td></tr></thead><tbody><tr><td>&quot;Deccan Charger…</td></tr><tr><td>&quot;Delhi Daredevi…</td></tr><tr><td>&quot;Delhi Capitals…</td></tr><tr><td>&quot;Rising Pune Su…</td></tr><tr><td>&quot;Chennai Super …</td></tr><tr><td>&quot;Mumbai Indians…</td></tr><tr><td>&quot;Pune Warriors&quot;</td></tr><tr><td>&quot;Kochi Tuskers …</td></tr><tr><td>&quot;Royal Challeng…</td></tr><tr><td>&quot;Kings XI Punja…</td></tr><tr><td>&quot;Sunrisers Hyde…</td></tr><tr><td>&quot;Rising Pune Su…</td></tr><tr><td>null</td></tr><tr><td>&quot;Kolkata Knight…</td></tr><tr><td>&quot;Gujarat Lions&quot;</td></tr><tr><td>&quot;Rajasthan Roya…</td></tr></tbody></table></div>"
      ],
      "text/plain": [
       "shape: (16,)\n",
       "Series: 'winner' [str]\n",
       "[\n",
       "\t\"Deccan Charger…\n",
       "\t\"Delhi Daredevi…\n",
       "\t\"Delhi Capitals…\n",
       "\t\"Rising Pune Su…\n",
       "\t\"Chennai Super …\n",
       "\t\"Mumbai Indians…\n",
       "\t\"Pune Warriors\"\n",
       "\t\"Kochi Tuskers …\n",
       "\t\"Royal Challeng…\n",
       "\t\"Kings XI Punja…\n",
       "\t\"Sunrisers Hyde…\n",
       "\t\"Rising Pune Su…\n",
       "\tnull\n",
       "\t\"Kolkata Knight…\n",
       "\t\"Gujarat Lions\"\n",
       "\t\"Rajasthan Roya…\n",
       "]"
      ]
     },
     "execution_count": 3,
     "metadata": {},
     "output_type": "execute_result"
    }
   ],
   "source": [
    "raw_data['winner'].unique()"
   ]
  },
  {
   "cell_type": "code",
   "execution_count": null,
   "metadata": {},
   "outputs": [],
   "source": []
  }
 ],
 "metadata": {
  "kernelspec": {
   "display_name": "Python 3",
   "language": "python",
   "name": "python3"
  },
  "language_info": {
   "codemirror_mode": {
    "name": "ipython",
    "version": 3
   },
   "file_extension": ".py",
   "mimetype": "text/x-python",
   "name": "python",
   "nbconvert_exporter": "python",
   "pygments_lexer": "ipython3",
   "version": "3.11.1"
  },
  "orig_nbformat": 4
 },
 "nbformat": 4,
 "nbformat_minor": 2
}
