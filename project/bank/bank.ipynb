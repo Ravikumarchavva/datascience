{
 "cells": [
  {
   "cell_type": "code",
   "execution_count": 2,
   "metadata": {},
   "outputs": [
    {
     "name": "stdout",
     "output_type": "stream",
     "text": [
      "[]\n"
     ]
    }
   ],
   "source": [
    "import sqlite3\n",
    "con=sqlite3.connect(\"/workspaces/ravikumar/project/bank/code.db\")\n",
    "cur=con.cursor()\n",
    "cur.execute(\"select * from loan\")\n",
    "print(cur.fetchall())"
   ]
  },
  {
   "cell_type": "code",
   "execution_count": 3,
   "metadata": {},
   "outputs": [],
   "source": [
    "class payment:\n",
    "    def __init__(self,loan_id,payment_no,payment_amount,con,cur):\n",
    "        self.loan_id=loan_id\n",
    "        self.payment_no=payment_no\n",
    "        self.payment_amount=payment_amount\n",
    "        self.cur=cur\n",
    "        self.con=con\n",
    "    def pay(self):\n",
    "        self.cur.execute(f\"SELECT amount from loan where loan_id={self.loan_id}\")\n",
    "        am=self.cur.fetchone()\n",
    "        amount=am[0]\n",
    "        self.cur.execute(f\"SELECT min(balance) from payment where loan_id={self.loan_id}\")\n",
    "        balan=self.cur.fetchone()\n",
    "        bal=balan[0]\n",
    "        if(self.payment_amount>bal):\n",
    "            print(\"money overflow\")\n",
    "        else:\n",
    "            balance=bal-self.payment_amount\n",
    "            print(amount,balance)\n",
    "            self.cur.execute(f\"insert into payment values ({self.loan_id},{self.payment_no},datetime('now'),{self.payment_amount},{amount},{balance})\")\n",
    "            self.con.commit()\n",
    "            if(balance==0):    \n",
    "                print(\"loan over\")   \n",
    "                self.cur.execute(f\"delete from payment where loan_id={self.loan_id}\")                                                                            "
   ]
  },
  {
   "cell_type": "code",
   "execution_count": 4,
   "metadata": {},
   "outputs": [
    {
     "data": {
      "text/plain": [
       "[]"
      ]
     },
     "execution_count": 4,
     "metadata": {},
     "output_type": "execute_result"
    }
   ],
   "source": [
    "cur.execute(\"select * from loan\")\n",
    "cur.fetchall()"
   ]
  },
  {
   "cell_type": "code",
   "execution_count": 5,
   "metadata": {},
   "outputs": [],
   "source": [
    "cur.execute(\"SELECT min(balance) from payment\")\n",
    "bal=cur.fetchone()\n",
    "balance=bal[0]\n",
    "balance"
   ]
  },
  {
   "cell_type": "code",
   "execution_count": 6,
   "metadata": {},
   "outputs": [
    {
     "ename": "TypeError",
     "evalue": "'NoneType' object is not subscriptable",
     "output_type": "error",
     "traceback": [
      "\u001b[0;31m---------------------------------------------------------------------------\u001b[0m",
      "\u001b[0;31mTypeError\u001b[0m                                 Traceback (most recent call last)",
      "Cell \u001b[0;32mIn[6], line 2\u001b[0m\n\u001b[1;32m      1\u001b[0m obj\u001b[39m=\u001b[39mpayment(\u001b[39m1\u001b[39m,\u001b[39m6\u001b[39m,\u001b[39m15000\u001b[39m,con,cur)\n\u001b[0;32m----> 2\u001b[0m obj\u001b[39m.\u001b[39;49mpay()\n",
      "Cell \u001b[0;32mIn[3], line 11\u001b[0m, in \u001b[0;36mpayment.pay\u001b[0;34m(self)\u001b[0m\n\u001b[1;32m      9\u001b[0m \u001b[39mself\u001b[39m\u001b[39m.\u001b[39mcur\u001b[39m.\u001b[39mexecute(\u001b[39mf\u001b[39m\u001b[39m\"\u001b[39m\u001b[39mSELECT amount from loan where loan_id=\u001b[39m\u001b[39m{\u001b[39;00m\u001b[39mself\u001b[39m\u001b[39m.\u001b[39mloan_id\u001b[39m}\u001b[39;00m\u001b[39m\"\u001b[39m)\n\u001b[1;32m     10\u001b[0m am\u001b[39m=\u001b[39m\u001b[39mself\u001b[39m\u001b[39m.\u001b[39mcur\u001b[39m.\u001b[39mfetchone()\n\u001b[0;32m---> 11\u001b[0m amount\u001b[39m=\u001b[39mam[\u001b[39m0\u001b[39;49m]\n\u001b[1;32m     12\u001b[0m \u001b[39mself\u001b[39m\u001b[39m.\u001b[39mcur\u001b[39m.\u001b[39mexecute(\u001b[39mf\u001b[39m\u001b[39m\"\u001b[39m\u001b[39mSELECT min(balance) from payment where loan_id=\u001b[39m\u001b[39m{\u001b[39;00m\u001b[39mself\u001b[39m\u001b[39m.\u001b[39mloan_id\u001b[39m}\u001b[39;00m\u001b[39m\"\u001b[39m)\n\u001b[1;32m     13\u001b[0m balan\u001b[39m=\u001b[39m\u001b[39mself\u001b[39m\u001b[39m.\u001b[39mcur\u001b[39m.\u001b[39mfetchone()\n",
      "\u001b[0;31mTypeError\u001b[0m: 'NoneType' object is not subscriptable"
     ]
    }
   ],
   "source": [
    "obj=payment(1,6,15000,con,cur)\n",
    "obj.pay()"
   ]
  },
  {
   "cell_type": "code",
   "execution_count": 8,
   "metadata": {},
   "outputs": [
    {
     "data": {
      "text/plain": [
       "[(1, 2), (1, 3), (2, 2), (2, 5), (2, 4), (3, 2), (4, 3), (4, 5), (5, 1)]"
      ]
     },
     "execution_count": 8,
     "metadata": {},
     "output_type": "execute_result"
    }
   ],
   "source": [
    "cur.execute(\"select * from banker\")\n",
    "\n",
    "cur.fetchall()\n"
   ]
  },
  {
   "cell_type": "code",
   "execution_count": null,
   "metadata": {},
   "outputs": [],
   "source": [
    "con.commit()"
   ]
  },
  {
   "cell_type": "code",
   "execution_count": null,
   "metadata": {},
   "outputs": [
    {
     "data": {
      "text/plain": [
       "('2023-02-23 07:56:49',)"
      ]
     },
     "execution_count": 8,
     "metadata": {},
     "output_type": "execute_result"
    }
   ],
   "source": [
    "cur.execute(\"select datetime('now')\")\n",
    "cur.fetchone()"
   ]
  },
  {
   "cell_type": "code",
   "execution_count": null,
   "metadata": {},
   "outputs": [
    {
     "data": {
      "text/plain": [
       "[(1,)]"
      ]
     },
     "execution_count": 12,
     "metadata": {},
     "output_type": "execute_result"
    }
   ],
   "source": [
    "cur.execute(\"select distinct(loan_id) from payment where loan_id not in (select loan_id from completed_loans)\")\n",
    "cur.fetchall()"
   ]
  },
  {
   "cell_type": "code",
   "execution_count": null,
   "metadata": {},
   "outputs": [
    {
     "ename": "OperationalError",
     "evalue": "no such column: loan_id",
     "output_type": "error",
     "traceback": [
      "\u001b[0;31m---------------------------------------------------------------------------\u001b[0m",
      "\u001b[0;31mOperationalError\u001b[0m                          Traceback (most recent call last)",
      "Cell \u001b[0;32mIn[13], line 1\u001b[0m\n\u001b[0;32m----> 1\u001b[0m cur\u001b[39m.\u001b[39;49mexecute(\u001b[39m\"\u001b[39;49m\u001b[39mINSERT INTO loan(loan_id,cust_id,b_code,amount,given_date) VALUES(2,2,2,100000,\u001b[39;49m\u001b[39m'\u001b[39;49m\u001b[39m2023-02-01\u001b[39;49m\u001b[39m'\u001b[39;49m\u001b[39m)\u001b[39;49m\u001b[39m\"\u001b[39;49m)\n",
      "\u001b[0;31mOperationalError\u001b[0m: no such column: loan_id"
     ]
    }
   ],
   "source": [
    "cur.execute(\"INSERT INTO loan(loan_id,cust_id,b_code,amount,given_date) VALUES(2,2,2,100000,'2023-02-01')\")"
   ]
  }
 ],
 "metadata": {
  "kernelspec": {
   "display_name": "Python 3",
   "language": "python",
   "name": "python3"
  },
  "language_info": {
   "codemirror_mode": {
    "name": "ipython",
    "version": 3
   },
   "file_extension": ".py",
   "mimetype": "text/x-python",
   "name": "python",
   "nbconvert_exporter": "python",
   "pygments_lexer": "ipython3",
   "version": "3.10.4"
  },
  "orig_nbformat": 4,
  "vscode": {
   "interpreter": {
    "hash": "eb4a0ac80907d7f44e1a5e88d3d3381b33e3dbedd3a24d113e876f30a0c46bee"
   }
  }
 },
 "nbformat": 4,
 "nbformat_minor": 2
}
