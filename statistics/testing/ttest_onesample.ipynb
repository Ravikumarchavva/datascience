{
 "cells": [
  {
   "cell_type": "code",
   "execution_count": 29,
   "metadata": {},
   "outputs": [],
   "source": [
    "from scipy.stats import ttest_1samp\n",
    "import numpy as np\n",
    "from matplotlib import pyplot as mp"
   ]
  },
  {
   "cell_type": "code",
   "execution_count": 30,
   "metadata": {},
   "outputs": [],
   "source": [
    "ages=np.random.normal(loc=30,scale=1,size=10000000)"
   ]
  },
  {
   "cell_type": "code",
   "execution_count": 31,
   "metadata": {},
   "outputs": [
    {
     "data": {
      "text/plain": [
       "29.99970642837001"
      ]
     },
     "execution_count": 31,
     "metadata": {},
     "output_type": "execute_result"
    }
   ],
   "source": [
    "ages.mean()"
   ]
  },
  {
   "cell_type": "code",
   "execution_count": 32,
   "metadata": {},
   "outputs": [
    {
     "data": {
      "text/plain": [
       "(array([6.000000e+00, 3.500000e+01, 3.910000e+02, 2.901000e+03,\n",
       "        1.717600e+04, 7.657200e+04, 2.560230e+05, 6.572470e+05,\n",
       "        1.272751e+06, 1.873388e+06, 2.092539e+06, 1.773099e+06,\n",
       "        1.141415e+06, 5.581210e+05, 2.060950e+05, 5.766500e+04,\n",
       "        1.228100e+04, 2.000000e+03, 2.770000e+02, 1.800000e+01]),\n",
       " array([24.47352493, 25.00484753, 25.53617014, 26.06749274, 26.59881534,\n",
       "        27.13013795, 27.66146055, 28.19278315, 28.72410575, 29.25542836,\n",
       "        29.78675096, 30.31807356, 30.84939617, 31.38071877, 31.91204137,\n",
       "        32.44336397, 32.97468658, 33.50600918, 34.03733178, 34.56865439,\n",
       "        35.09997699]),\n",
       " <BarContainer object of 20 artists>)"
      ]
     },
     "execution_count": 32,
     "metadata": {},
     "output_type": "execute_result"
    },
    {
     "data": {
      "image/png": "[encoded data removed]",
      "text/plain": [
       "<Figure size 640x480 with 1 Axes>"
      ]
     },
     "metadata": {},
     "output_type": "display_data"
    }
   ],
   "source": [
    "mp.hist(ages,bins=20)"
   ]
  },
  {
   "cell_type": "code",
   "execution_count": 33,
   "metadata": {},
   "outputs": [],
   "source": [
    "sample=np.random.choice(ages,15)"
   ]
  },
  {
   "cell_type": "code",
   "execution_count": 34,
   "metadata": {},
   "outputs": [
    {
     "data": {
      "text/plain": [
       "array([29.28852571, 30.65191987, 29.434006  , 30.90831931, 30.41290681,\n",
       "       31.27650807, 29.50007584, 29.64933409, 31.75100753, 29.76945237,\n",
       "       31.81983049, 29.24570807, 30.13820579, 29.28838432, 29.83880532])"
      ]
     },
     "execution_count": 34,
     "metadata": {},
     "output_type": "execute_result"
    }
   ],
   "source": [
    "sample"
   ]
  },
  {
   "cell_type": "code",
   "execution_count": 35,
   "metadata": {},
   "outputs": [
    {
     "data": {
      "text/plain": [
       "0.4047797489488686"
      ]
     },
     "execution_count": 35,
     "metadata": {},
     "output_type": "execute_result"
    }
   ],
   "source": [
    "ttest,p_value=ttest_1samp(sample,popmean=ages.mean())\n",
    "p_value"
   ]
  },
  {
   "cell_type": "code",
   "execution_count": 36,
   "metadata": {},
   "outputs": [
    {
     "name": "stdout",
     "output_type": "stream",
     "text": [
      "can't reject null hypothesis\n"
     ]
    }
   ],
   "source": [
    "if(p_value<0.05):\n",
    "    print(\"reject null hypothesis\")\n",
    "else:\n",
    "    print(\"can't reject null hypothesis\")"
   ]
  }
 ],
 "metadata": {
  "kernelspec": {
   "display_name": "Python 3",
   "language": "python",
   "name": "python3"
  },
  "language_info": {
   "codemirror_mode": {
    "name": "ipython",
    "version": 3
   },
   "file_extension": ".py",
   "mimetype": "text/x-python",
   "name": "python",
   "nbconvert_exporter": "python",
   "pygments_lexer": "ipython3",
   "version": "3.10.4"
  },
  "orig_nbformat": 4
 },
 "nbformat": 4,
 "nbformat_minor": 2
}
